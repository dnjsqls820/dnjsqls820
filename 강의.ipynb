{
  "cells": [
    {
      "cell_type": "markdown",
      "metadata": {
        "id": "view-in-github",
        "colab_type": "text"
      },
      "source": [
        "<a href=\"https://colab.research.google.com/github/dnjsqls820/dnjsqls820/blob/main/%EA%B0%95%EC%9D%98.ipynb\" target=\"_parent\"><img src=\"https://colab.research.google.com/assets/colab-badge.svg\" alt=\"Open In Colab\"/></a>"
      ]
    },
    {
      "cell_type": "code",
      "source": [
        "from google.colab import drive\n",
        "drive.mount('/content/drive')"
      ],
      "metadata": {
        "id": "vFUraNz78o5V",
        "outputId": "aa034150-8223-437c-a8f7-7f90d11fe69a",
        "colab": {
          "base_uri": "https://localhost:8080/"
        }
      },
      "execution_count": 3,
      "outputs": [
        {
          "output_type": "stream",
          "name": "stdout",
          "text": [
            "Mounted at /content/drive\n"
          ]
        }
      ]
    },
    {
      "cell_type": "markdown",
      "source": [
        "평균 기온값의 최대값 최소값 출력"
      ],
      "metadata": {
        "id": "-DN5RltbmDAk"
      }
    },
    {
      "cell_type": "code",
      "source": [
        "import csv\n",
        "f = open('/content/drive/MyDrive/실습/temp_day.csv', encoding='euc-kr')\n",
        "data = csv.reader(f)\n",
        "header = next(data)\n",
        "temp = [ ]\n",
        "for row in data:\n",
        "    temp.append(float(row[1]))\n",
        "print(temp)\n",
        "print(min(temp),max(temp))"
      ],
      "metadata": {
        "id": "fXamOn-l8zq4",
        "outputId": "b9c125ca-4f7b-480c-8b53-a205ab63eca3",
        "colab": {
          "base_uri": "https://localhost:8080/"
        }
      },
      "execution_count": 16,
      "outputs": [
        {
          "output_type": "stream",
          "name": "stdout",
          "text": [
            "[-3.9, -6.7, -4.3, -1.3, -1.9, -2.5, -2.8, -2.2, -1.6, 0.3, 1.3, 0.5, -7.4, -7.7, -6.4, -4.8, -1.0, -2.0, -5.8, -5.6, -5.3, -5.0, -2.7, 0.3, 2.0, 4.6, 2.8, 1.3, -1.1, -2.7]\n",
            "-7.7 4.6\n"
          ]
        }
      ]
    },
    {
      "cell_type": "markdown",
      "source": [
        "1단계 : 유동인구 데이터를 컴퓨터로 저장한 수 출력"
      ],
      "metadata": {
        "id": "RhkiM_RPm57f"
      }
    },
    {
      "cell_type": "code",
      "source": [
        "#은재가 조사한 일주일간 유동 인구 데이터 (월요일~일요일)\n",
        "a = [242, 256, 237, 223, 263, 81, 46]   #리스트에 유동 인구 데이터 초기화\n",
        "print('A=',a)                           #출력하기"
      ],
      "metadata": {
        "id": "eVExAm_ZnLXb"
      },
      "execution_count": null,
      "outputs": []
    },
    {
      "cell_type": "markdown",
      "source": [
        "2단계: 유동인구 데이터의 총합과 평균\n",
        "일주일간의 유동 총 인구수와 평균을 우선 살펴보기로 하자"
      ],
      "metadata": {
        "id": "iObWbNionOHX"
      }
    },
    {
      "cell_type": "code",
      "source": [
        "a = [242, 256, 237, 223, 263, 81, 46]   #리스트에 유동 인구 데이터 초기화\n",
        "print('A=',a)                           #출력하기\n",
        "n = len(a)\n",
        "my_sum = 0\n",
        "my_avg = 0\n",
        "i = 0\n",
        "\n",
        "for i in range(0,n):\n",
        "    my_sum = my_sum + a[i]\n",
        "\n",
        "my_avg=my_sum/n\n",
        "print('Total Sum:', my_sum)\n",
        "print('Total Average: ', my_avg)"
      ],
      "metadata": {
        "id": "-uBKG8AeJ24o",
        "outputId": "404760eb-56af-43d2-b45d-ebcd87a28117",
        "colab": {
          "base_uri": "https://localhost:8080/"
        }
      },
      "execution_count": 23,
      "outputs": [
        {
          "output_type": "stream",
          "name": "stdout",
          "text": [
            "A= [242, 256, 237, 223, 263, 81, 46]\n",
            "Total Sum: 1348\n",
            "Total Average:  192.57142857142858\n"
          ]
        }
      ]
    },
    {
      "cell_type": "code",
      "source": [
        "a = [242, 256, 237, 223, 263, 81, 46]\n",
        "print('A=',a)\n",
        "import matplotlib.pyplot as plt\n",
        "from matplotlib import font_manager, rc\n",
        "\n",
        "\n",
        "rc('font', family = 'NanumBarunGothic')\n",
        "\n",
        "x_data = ['MON', 'TUE', 'WED', 'THR', 'FRI', 'SAT', 'SUN']\n",
        "#그래프의 제목 붙이기\n",
        "plt.title('일주일간 유동 인구수 데이터', fontsize = 16)\n",
        "plt.xlabel('요일', fontsize = 12)\n",
        "plt.ylabel('유동 인구수', fontsize = 12)\n",
        "#꺽은선 그래프 그리기\n",
        "plt.scatter(x_data, a)\n",
        "plt.plot(x_data, a)\n",
        "plt.show()"
      ],
      "metadata": {
        "id": "ZWqvYyL6B1kz",
        "outputId": "86a314bc-0254-4066-97da-70f0fd3116e8",
        "colab": {
          "base_uri": "https://localhost:8080/",
          "height": 318
        }
      },
      "execution_count": 3,
      "outputs": [
        {
          "output_type": "stream",
          "name": "stdout",
          "text": [
            "A= [242, 256, 237, 223, 263, 81, 46]\n"
          ]
        },
        {
          "output_type": "display_data",
          "data": {
            "image/png": "[encoded data removed]",
            "text/plain": [
              "<Figure size 432x288 with 1 Axes>"
            ]
          },
          "metadata": {
            "needs_background": "light"
          }
        }
      ]
    },
    {
      "cell_type": "code",
      "source": [
        "!sudo apt-get install -y fonts-nanum\n",
        "!sudo fc-cache -fv\n",
        "!rm ~/.cache/matplotlib -rf"
      ],
      "metadata": {
        "colab": {
          "base_uri": "https://localhost:8080/"
        },
        "id": "uVFMZGGGno-E",
        "outputId": "50186e68-de08-4029-cabe-fb1229cc4403"
      },
      "execution_count": 4,
      "outputs": [
        {
          "output_type": "stream",
          "name": "stdout",
          "text": [
            "Reading package lists... Done\n",
            "Building dependency tree       \n",
            "Reading state information... Done\n",
            "The following NEW packages will be installed:\n",
            "  fonts-nanum\n",
            "0 upgraded, 1 newly installed, 0 to remove and 37 not upgraded.\n",
            "Need to get 9,604 kB of archives.\n",
            "After this operation, 29.5 MB of additional disk space will be used.\n",
            "Get:1 http://archive.ubuntu.com/ubuntu bionic/universe amd64 fonts-nanum all 20170925-1 [9,604 kB]\n",
            "Fetched 9,604 kB in 3s (2,918 kB/s)\n",
            "debconf: unable to initialize frontend: Dialog\n",
            "debconf: (No usable dialog-like program is installed, so the dialog based frontend cannot be used. at /usr/share/perl5/Debconf/FrontEnd/Dialog.pm line 76, <> line 1.)\n",
            "debconf: falling back to frontend: Readline\n",
            "debconf: unable to initialize frontend: Readline\n",
            "debconf: (This frontend requires a controlling tty.)\n",
            "debconf: falling back to frontend: Teletype\n",
            "dpkg-preconfigure: unable to re-open stdin: \n",
            "Selecting previously unselected package fonts-nanum.\n",
            "(Reading database ... 155229 files and directories currently installed.)\n",
            "Preparing to unpack .../fonts-nanum_20170925-1_all.deb ...\n",
            "Unpacking fonts-nanum (20170925-1) ...\n",
            "Setting up fonts-nanum (20170925-1) ...\n",
            "Processing triggers for fontconfig (2.12.6-0ubuntu2) ...\n",
            "/usr/share/fonts: caching, new cache contents: 0 fonts, 1 dirs\n",
            "/usr/share/fonts/truetype: caching, new cache contents: 0 fonts, 3 dirs\n",
            "/usr/share/fonts/truetype/humor-sans: caching, new cache contents: 1 fonts, 0 dirs\n",
            "/usr/share/fonts/truetype/liberation: caching, new cache contents: 16 fonts, 0 dirs\n",
            "/usr/share/fonts/truetype/nanum: caching, new cache contents: 10 fonts, 0 dirs\n",
            "/usr/local/share/fonts: caching, new cache contents: 0 fonts, 0 dirs\n",
            "/root/.local/share/fonts: skipping, no such directory\n",
            "/root/.fonts: skipping, no such directory\n",
            "/var/cache/fontconfig: cleaning cache directory\n",
            "/root/.cache/fontconfig: not cleaning non-existent cache directory\n",
            "/root/.fontconfig: not cleaning non-existent cache directory\n",
            "fc-cache: succeeded\n"
          ]
        }
      ]
    },
    {
      "cell_type": "code",
      "source": [
        "import csv\n",
        "f = open('/content/drive/MyDrive/실습/temp_ice.csv',encoding='euc-kr')\n",
        "data = csv.reader(f)\n",
        "header = next(data)\n",
        "temp = []\n",
        "ice = []\n",
        "a = 0\n",
        "for row in data:\n",
        "    temp.append(float(row[1]))\n",
        "    ice.append(int(row[4]))\n",
        "\n",
        "print(temp)\n",
        "print(ice)\n"
      ],
      "metadata": {
        "id": "kvLvdDrLLM1D",
        "outputId": "fedb3a82-88fa-4214-d16b-00c9027d8e13",
        "colab": {
          "base_uri": "https://localhost:8080/"
        }
      },
      "execution_count": 48,
      "outputs": [
        {
          "output_type": "stream",
          "name": "stdout",
          "text": [
            "[-2.1, -2.5, -2.1, -0.7, 0.2, -1.3, -0.5, -0.7, -2.9, 0.5, 2.1, 3.0, 1.3, 1.0, 0.9, -3.2, 0.4, 0.8, 2.9, 1.6, 0.5, 2.6, 3.1, 0.7, -0.4, -1.8, -0.2, 2.6, 0.0, 3.5, 0.3, -1.3, 2.1, 5.6, 2.5, 2.9, 5.6, 2.1, -2.0, -1.7, -1.4, -0.8, 0.1, 0.3, 0.6, 2.0, -0.3, -0.2, 2.2, 2.9, 2.8, 2.7, 3.9, 5.0, 6.1, 6.0, 5.4, 7.1, 6.8, 6.0, 6.9, 8.7, 8.8, 8.2, 8.8, 6.5, 6.1, 7.9, 7.8, 6.4, 5.8, 3.9, 5.2, 5.8, 5.8, 6.6, 7.5, 10.7, 11.4, 9.8, 5.2, 4.2, 4.7, 7.2, 10.5, 12.8, 10.6, 10.6, 7.2, 5.4, 5.7, 6.7, 7.4, 9.9, 11.7, 11.6, 12.5, 11.8, 9.3, 7.2, 8.8, 10.7, 11.6, 10.2, 11.1, 14.2, 15.5, 15.3, 12.8, 14.7, 16.5, 17.6, 16.8, 17.3, 13.5, 9.4, 11.4, 12.1, 11.3, 14.6, 15.4, 16.0, 16.7, 17.6, 18.9, 14.0, 13.9, 15.7, 17.1, 17.6, 18.5, 18.4, 17.9, 19.8, 20.3, 21.4, 21.3, 18.8, 19.5, 17.0, 17.0, 19.2, 20.9, 22.9, 23.3, 23.2, 18.6, 17.8, 19.7, 20.5, 18.6, 18.9, 20.6, 22.0, 23.1, 22.9, 21.1, 18.6, 20.1, 19.7, 18.3, 18.8, 19.7, 21.2, 20.2, 20.4, 20.2, 21.3, 21.3, 22.2, 23.4, 22.8, 21.7, 21.6, 22.5, 23.6, 21.1, 23.8, 23.6, 21.6, 23.8, 23.2, 23.4, 23.1, 24.4, 25.1, 25.1, 23.5, 22.6, 22.6, 20.9, 22.2, 23.2, 23.3, 23.9, 23.2, 23.8, 24.4, 24.3, 25.2, 24.8, 24.8, 27.0, 27.9, 26.8, 26.6, 26.5, 27.1, 26.9, 27.8, 28.4, 28.4, 28.4, 28.8, 28.3, 28.4, 28.8, 27.6, 27.2, 27.6, 28.3, 28.6, 28.3, 27.7, 28.5, 28.6, 26.1, 26.4, 26.2, 25.3, 25.1, 26.0, 25.8, 25.8, 24.7, 22.8, 23.2, 24.3, 22.7, 23.8, 22.4, 22.9, 22.6, 22.1, 21.6, 22.1, 23.4, 24.2, 25.4, 25.8, 24.6, 24.7, 25.4, 23.9, 20.8, 21.7, 22.3, 23.4, 22.4, 21.3, 21.0, 19.2, 19.3, 17.8, 17.5, 18.1, 17.8, 18.4, 20.4, 21.4, 22.5, 22.2, 21.6, 21.2, 20.9, 21.8, 21.1, 18.8, 17.0, 15.3, 15.6, 12.9, 14.6, 17.7, 17.8, 15.6, 14.4, 13.1, 13.0, 13.7, 15.0, 16.0, 14.9, 15.0, 15.6, 15.7, 17.2, 16.8, 12.6, 10.2, 11.1, 12.9, 10.8, 12.9, 14.0, 13.1, 13.5, 12.1, 11.3, 10.9, 10.4, 7.5, 8.1, 9.1, 11.7, 9.2, 8.6, 3.3, 6.8, 10.1, 10.8, 8.4, 3.3, 2.2, 4.7, 8.9, 10.4, 12.5, 5.7, 7.5, 6.0, 4.6, 3.1, 5.1, 6.0, 3.3, 2.0, 3.9, 0.0, -3.5, -0.3, 0.8, 2.5, 6.1, 6.7, 1.4, 1.2, 3.8, 4.4, 6.7, 8.0, 4.4, 1.9, 0.7, -0.1, 2.6, 3.5, 1.6, 3.2, 3.3, 0.2, 0.1, 2.2, 4.7, -4.1]\n",
            "[27, 27, 25, 25, 26, 30, 29, 28, 27, 27, 27, 25, 30, 31, 34, 33, 29, 26, 26, 32, 33, 31, 32, 28, 25, 24, 29, 30, 27, 24, 21, 20, 21, 21, 22, 22, 28, 33, 32, 31, 34, 34, 30, 27, 26, 23, 26, 31, 32, 31, 28, 28, 29, 30, 32, 32, 29, 28, 28, 27, 28, 31, 28, 27, 31, 25, 24, 28, 33, 30, 28, 29, 28, 23, 24, 27, 28, 28, 31, 28, 25, 26, 32, 34, 35, 31, 31, 24, 26, 32, 31, 32, 32, 32, 27, 27, 32, 34, 33, 32, 31, 29, 27, 37, 38, 37, 36, 36, 31, 29, 35, 47, 43, 44, 42, 35, 31, 37, 44, 41, 56, 46, 39, 35, 37, 47, 52, 51, 51, 48, 54, 77, 81, 87, 90, 100, 72, 67, 77, 76, 75, 89, 96, 75, 67, 84, 99, 91, 86, 77, 60, 63, 78, 95, 88, 73, 81, 69, 67, 75, 80, 79, 75, 71, 66, 57, 68, 78, 76, 68, 67, 63, 56, 66, 81, 79, 67, 64, 54, 52, 64, 70, 83, 75, 69, 61, 57, 68, 75, 68, 66, 63, 55, 53, 62, 69, 66, 65, 62, 61, 57, 61, 73, 77, 69, 74, 63, 52, 57, 65, 65, 61, 66, 56, 54, 64, 72, 75, 69, 69, 61, 49, 56, 62, 60, 53, 49, 53, 41, 50, 55, 53, 47, 47, 41, 37, 44, 45, 43, 47, 40, 34, 32, 41, 42, 39, 35, 36, 36, 33, 37, 35, 26, 22, 23, 28, 29, 38, 39, 38, 36, 32, 28, 29, 35, 33, 34, 32, 31, 27, 28, 35, 36, 34, 32, 35, 31, 27, 33, 32, 30, 32, 29, 28, 28, 33, 31, 32, 32, 29, 27, 28, 31, 34, 32, 32, 32, 25, 24, 30, 33, 29, 28, 25, 23, 25, 32, 31, 30, 32, 27, 22, 22, 29, 27, 28, 29, 24, 21, 21, 29, 29, 29, 30, 27, 26, 25, 32, 30, 31, 30, 28, 24, 24, 31, 33, 30, 28, 26, 24, 25, 39, 33, 30, 30, 30, 28, 30, 35, 35, 35, 33, 31, 25, 25, 31, 29, 22, 24, 26, 24, 25, 29, 28, 22]\n"
          ]
        }
      ]
    },
    {
      "cell_type": "markdown",
      "source": [
        "1단계: 평균 기온 값의 최솟값과 최댓값을 찾아 출력"
      ],
      "metadata": {
        "id": "ileWLWHxRqV9"
      }
    },
    {
      "cell_type": "code",
      "source": [
        "import csv\n",
        "f = open('/content/drive/MyDrive/실습/temp_ice.csv',encoding='euc-kr')\n",
        "data = csv.reader(f)\n",
        "header = next(data)\n",
        "temp = []\n",
        "ice = []\n",
        "for row in data:\n",
        "    temp.append(float(row[1]))\n",
        "    ice.append(int(row[4]))\n",
        "print(min(temp), max(temp))"
      ],
      "metadata": {
        "id": "GnqZ6kLLRILS",
        "outputId": "22c640da-505b-416a-d537-ac244074406b",
        "colab": {
          "base_uri": "https://localhost:8080/"
        }
      },
      "execution_count": 49,
      "outputs": [
        {
          "output_type": "stream",
          "name": "stdout",
          "text": [
            "-4.1 28.8\n"
          ]
        }
      ]
    },
    {
      "cell_type": "markdown",
      "source": [
        "2단계: 도수분포 구간을 설정하여 출력"
      ],
      "metadata": {
        "id": "12-R410lR2Q_"
      }
    },
    {
      "cell_type": "code",
      "source": [
        "import csv\n",
        "f = open('/content/drive/MyDrive/실습/temp_ice.csv',encoding='euc-kr')\n",
        "data = csv.reader(f)\n",
        "header = next(data)\n",
        "temp = []\n",
        "ice = []\n",
        "for row in data:\n",
        "    temp.append(float(row[1]))\n",
        "    ice.append(int(row[4]))\n",
        "#평균 기온 값을 기준으로 도수분포 구간 설정하기\n",
        "import numpy as np\n",
        "\n",
        "bins = np.arange(min(temp), max(temp), 5)\n",
        "print(bins)"
      ],
      "metadata": {
        "id": "-4_EoIIKRlbJ",
        "outputId": "01d37667-f226-46fb-892a-d5de68f6490e",
        "colab": {
          "base_uri": "https://localhost:8080/"
        }
      },
      "execution_count": 50,
      "outputs": [
        {
          "output_type": "stream",
          "name": "stdout",
          "text": [
            "[-4.1  0.9  5.9 10.9 15.9 20.9 25.9]\n"
          ]
        }
      ]
    },
    {
      "cell_type": "markdown",
      "source": [
        "3단계: 도수분포 구간을 재설정하여 출력"
      ],
      "metadata": {
        "id": "7kdYa97BV9nK"
      }
    },
    {
      "cell_type": "code",
      "source": [
        "import csv\n",
        "f = open('/content/drive/MyDrive/실습/temp_ice.csv',encoding='euc-kr')\n",
        "data = csv.reader(f)\n",
        "header = next(data)\n",
        "temp = []\n",
        "ice = []\n",
        "for row in data:\n",
        "    temp.append(float(row[1]))\n",
        "    ice.append(int(row[4]))\n",
        "#평균 기온 값을 기준으로 도수분포 구간 설정하기\n",
        "import numpy as np\n",
        "\n",
        "bins = np.arange(min(temp), max(temp)+5,5)\n",
        "print(bins)"
      ],
      "metadata": {
        "id": "X93J_5cPWAnD",
        "outputId": "afbe8a31-a921-4e97-daeb-ce11933c7378",
        "colab": {
          "base_uri": "https://localhost:8080/"
        }
      },
      "execution_count": 51,
      "outputs": [
        {
          "output_type": "stream",
          "name": "stdout",
          "text": [
            "[-4.1  0.9  5.9 10.9 15.9 20.9 25.9 30.9]\n"
          ]
        }
      ]
    },
    {
      "cell_type": "markdown",
      "source": [
        "4단계: 각 계급에 해당하는 도수값 확인 후 출력"
      ],
      "metadata": {
        "id": "inAUEcxAWRv7"
      }
    },
    {
      "cell_type": "code",
      "source": [
        "import csv\n",
        "f = open('/content/drive/MyDrive/실습/temp_ice.csv',encoding='euc-kr')\n",
        "data = csv.reader(f)\n",
        "header = next(data)\n",
        "temp = []\n",
        "ice = []\n",
        "for row in data:\n",
        "    temp.append(float(row[1]))\n",
        "    ice.append(int(row[4]))\n",
        "#평균 기온 값을 기준으로 도수분포 구간 설정하기\n",
        "import numpy as np\n",
        "bins = np.arange(min(temp),max(temp)+5,5)\n",
        "hist, bins = np.histogram(temp, bins)\n",
        "print(hist)\n",
        "print(bins)"
      ],
      "metadata": {
        "id": "Tz6ip8Z_WRDK",
        "outputId": "d01161b5-3865-4db2-f622-5154eb0cb4a0",
        "colab": {
          "base_uri": "https://localhost:8080/"
        }
      },
      "execution_count": 52,
      "outputs": [
        {
          "output_type": "stream",
          "name": "stdout",
          "text": [
            "[40 59 54 48 52 84 28]\n",
            "[-4.1  0.9  5.9 10.9 15.9 20.9 25.9 30.9]\n"
          ]
        }
      ]
    },
    {
      "cell_type": "markdown",
      "source": [
        "5단계: 계급별 아이스크림 쇼핑 클릭량 합계"
      ],
      "metadata": {
        "id": "_jSgRwLGWxne"
      }
    },
    {
      "cell_type": "code",
      "source": [
        "import csv\n",
        "f = open('/content/drive/MyDrive/실습/temp_ice.csv',encoding='euc-kr')\n",
        "data = csv.reader(f)\n",
        "header = next(data)\n",
        "temp = []\n",
        "ice = []\n",
        "\n",
        "for row in data:\n",
        "    temp.append(float(row[1]))\n",
        "    ice.append(int(row[4]))\n",
        "\n",
        "import numpy as np\n",
        "\n",
        "bins = np.arange(min(temp),max(temp)+5,5)\n",
        "hist, bins = np.histogram(temp, bins)\n",
        "\n",
        "ice_buy = np.zeros(7)\n",
        "\n",
        "for i in range(0, len(temp)):\n",
        "    if bins[0] <= temp[i] and temp[i] < bins[1]:\n",
        "        ice_buy[0] = ice_buy[0] + ice[i]\n",
        "    elif bins[1] <= temp[i] and temp[i] < bins[2]:\n",
        "        ice_buy[1] = ice_buy[1] + ice[i]\n",
        "    elif bins[2] <= temp[i] and temp[i] < bins[3]:\n",
        "        ice_buy[2] = ice_buy[2] + ice[i]\n",
        "    elif bins[3] <= temp[i] and temp[i] < bins[4]:\n",
        "        ice_buy[3] = ice_buy[3] + ice[i]\n",
        "    elif bins[4] <= temp[i] and temp[i] < bins[5]:\n",
        "        ice_buy[4] = ice_buy[4] + ice[i]\n",
        "    elif bins[5] <= temp[i] and temp[i] < bins[6]:\n",
        "        ice_buy[5] = ice_buy[5] + ice[i]\n",
        "    else:\n",
        "        ice_buy[6] = ice_buy[6] + ice[i]\n",
        "print(ice_buy)"
      ],
      "metadata": {
        "id": "UuBsFQHbWw3k",
        "outputId": "c60c9f64-dd69-4252-e28b-fac0de04e361",
        "colab": {
          "base_uri": "https://localhost:8080/"
        }
      },
      "execution_count": 54,
      "outputs": [
        {
          "output_type": "stream",
          "name": "stdout",
          "text": [
            "[1106. 1659. 1574. 1596. 2866. 4613. 1718.]\n"
          ]
        }
      ]
    },
    {
      "cell_type": "markdown",
      "source": [
        "6단계: 도수분포 구간을 재설정하여 출력"
      ],
      "metadata": {
        "id": "DIfChCjGduFz"
      }
    },
    {
      "cell_type": "code",
      "source": [
        "import csv\n",
        "f = open('/content/drive/MyDrive/실습/temp_ice.csv',encoding='euc-kr')\n",
        "data = csv.reader(f)\n",
        "header = next(data)\n",
        "temp = []\n",
        "ice = []\n",
        "\n",
        "for row in data:\n",
        "    temp.append(float(row[1]))\n",
        "    ice.append(int(row[4]))\n",
        "\n",
        "import numpy as np\n",
        "\n",
        "bins = np.arange(min(temp),max(temp)+5,5)\n",
        "hist, bins = np.histogram(temp, bins)\n",
        "\n",
        "ice_buy = np.zeros(7)\n",
        "\n",
        "for i in range(0, len(temp)):\n",
        "    if bins[0] <= temp[i] and temp[i] < bins[1]:\n",
        "        ice_buy[0] = ice_buy[0] + ice[i]\n",
        "    elif bins[1] <= temp[i] and temp[i] < bins[2]:\n",
        "        ice_buy[1] = ice_buy[1] + ice[i]\n",
        "    elif bins[2] <= temp[i] and temp[i] < bins[3]:\n",
        "        ice_buy[2] = ice_buy[2] + ice[i]\n",
        "    elif bins[3] <= temp[i] and temp[i] < bins[4]:\n",
        "        ice_buy[3] = ice_buy[3] + ice[i]\n",
        "    elif bins[4] <= temp[i] and temp[i] < bins[5]:\n",
        "        ice_buy[4] = ice_buy[4] + ice[i]\n",
        "    elif bins[5] <= temp[i] and temp[i] < bins[6]:\n",
        "        ice_buy[5] = ice_buy[5] + ice[i]\n",
        "    else:\n",
        "        ice_buy[6] = ice_buy[6] + ice[i]\n",
        "\n",
        "ice_buy_a = np.zeros(7)\n",
        "\n",
        "for i in range(0,len(ice_buy)):\n",
        "    ice_buy_a[i] = ice_buy[i] / hist[i]\n",
        "\n",
        "for i in range(0, len(ice_buy)):\n",
        "    print('%0.2f'% ice_buy_a[i])"
      ],
      "metadata": {
        "id": "naJ-TO45X4xG",
        "colab": {
          "base_uri": "https://localhost:8080/"
        },
        "outputId": "660a7a52-703e-4056-d911-3f50ff25b160"
      },
      "execution_count": 53,
      "outputs": [
        {
          "output_type": "stream",
          "name": "stdout",
          "text": [
            "27.65\n",
            "28.12\n",
            "29.15\n",
            "33.25\n",
            "55.12\n",
            "54.92\n",
            "61.36\n"
          ]
        }
      ]
    },
    {
      "cell_type": "code",
      "source": [
        "import csv\n",
        "f = open('/content/drive/MyDrive/실습/temp_ice.csv',encoding='euc-kr')\n",
        "data = csv.reader(f)\n",
        "header = next(data)\n",
        "temp = []\n",
        "ice = []\n",
        "\n",
        "for row in data:\n",
        "    temp.append(float(row[1]))\n",
        "    ice.append(int(row[4]))\n",
        "\n",
        "import numpy as np\n",
        "\n",
        "bins = np.arange(min(temp),max(temp)+5,5)\n",
        "hist, bins = np.histogram(temp, bins)\n",
        "\n",
        "ice_buy = np.zeros(7)\n",
        "\n",
        "for i in range(0, len(temp)):\n",
        "    if bins[0] <= temp[i] and temp[i] < bins[1]:\n",
        "        ice_buy[0] = ice_buy[0] + ice[i]\n",
        "    elif bins[1] <= temp[i] and temp[i] < bins[2]:\n",
        "        ice_buy[1] = ice_buy[1] + ice[i]\n",
        "    elif bins[2] <= temp[i] and temp[i] < bins[3]:\n",
        "        ice_buy[2] = ice_buy[2] + ice[i]\n",
        "    elif bins[3] <= temp[i] and temp[i] < bins[4]:\n",
        "        ice_buy[3] = ice_buy[3] + ice[i]\n",
        "    elif bins[4] <= temp[i] and temp[i] < bins[5]:\n",
        "        ice_buy[4] = ice_buy[4] + ice[i]\n",
        "    elif bins[5] <= temp[i] and temp[i] < bins[6]:\n",
        "        ice_buy[5] = ice_buy[5] + ice[i]\n",
        "    else:\n",
        "        ice_buy[6] = ice_buy[6] + ice[i]\n",
        "\n",
        "ice_buy_a = np.zeros(7)\n",
        "\n",
        "for i in range(0,len(ice_buy)):\n",
        "    ice_buy_a[i] = ice_buy[i] / hist[i]\n",
        "\n",
        "\n",
        "import matplotlib.pyplot as plt\n",
        "plt.xlabel('Average temperature')\n",
        "plt.ylabel('Number of ice cream shopping')\n",
        "plt.bar(bins[0:7],ice_buy_a, width = 2, align = 'edge')\n",
        "plt.xticks(bins[0:7])\n",
        "plt.show()"
      ],
      "metadata": {
        "colab": {
          "base_uri": "https://localhost:8080/",
          "height": 279
        },
        "id": "tOgyEb6I9qpu",
        "outputId": "dcf47dad-f77c-4a5e-f393-1848b992ceac"
      },
      "execution_count": 58,
      "outputs": [
        {
          "output_type": "display_data",
          "data": {
            "image/png": "[encoded data removed]",
            "text/plain": [
              "<Figure size 432x288 with 1 Axes>"
            ]
          },
          "metadata": {
            "needs_background": "light"
          }
        }
      ]
    },
    {
      "cell_type": "code",
      "source": [
        "import csv\n",
        "f = open('/content/drive/MyDrive/실습/temp_ice.csv',encoding='euc-kr')\n",
        "data = csv.reader(f)\n",
        "header = next(data)\n",
        "temp = []\n",
        "ice = []\n",
        "\n",
        "for row in data:\n",
        "    temp.append(float(row[1]))\n",
        "    ice.append(int(row[4]))\n",
        "\n",
        "import numpy as np\n",
        "\n",
        "bins = np.arange(min(temp),max(temp)+5,5)\n",
        "hist, bins = np.histogram(temp, bins)\n",
        "\n",
        "ice_buy = np.zeros(7)\n",
        "\n",
        "for i in range(0, len(temp)):\n",
        "    if bins[0] <= temp[i] and temp[i] < bins[1]:\n",
        "        ice_buy[0] = ice_buy[0] + ice[i]\n",
        "    elif bins[1] <= temp[i] and temp[i] < bins[2]:\n",
        "        ice_buy[1] = ice_buy[1] + ice[i]\n",
        "    elif bins[2] <= temp[i] and temp[i] < bins[3]:\n",
        "        ice_buy[2] = ice_buy[2] + ice[i]\n",
        "    elif bins[3] <= temp[i] and temp[i] < bins[4]:\n",
        "        ice_buy[3] = ice_buy[3] + ice[i]\n",
        "    elif bins[4] <= temp[i] and temp[i] < bins[5]:\n",
        "        ice_buy[4] = ice_buy[4] + ice[i]\n",
        "    elif bins[5] <= temp[i] and temp[i] < bins[6]:\n",
        "        ice_buy[5] = ice_buy[5] + ice[i]\n",
        "    else:\n",
        "        ice_buy[6] = ice_buy[6] + ice[i]\n",
        "\n",
        "ice_buy_a = np.zeros(7)\n",
        "\n",
        "for i in range(0,len(ice_buy)):\n",
        "    ice_buy_a[i] = ice_buy[i] / hist[i]\n",
        "\n",
        "    \n",
        "import matplotlib.pyplot as plt\n",
        "plt.xlabel('Average temperature')\n",
        "plt.ylabel('Number of ice cream shopping')\n",
        "plt.bar(bins[0:7],ice_buy_a, width = 2, align = 'edge')\n",
        "plt.xticks(bins[0:7])\n",
        "plt.show()"
      ],
      "metadata": {
        "colab": {
          "base_uri": "https://localhost:8080/",
          "height": 279
        },
        "id": "pD-Ma8Re4_r1",
        "outputId": "c5c66fff-b318-4c0c-c0ef-b8e0e498e110"
      },
      "execution_count": 59,
      "outputs": [
        {
          "output_type": "display_data",
          "data": {
            "image/png": "[encoded data removed]",
            "text/plain": [
              "<Figure size 432x288 with 1 Axes>"
            ]
          },
          "metadata": {
            "needs_background": "light"
          }
        }
      ]
    },
    {
      "cell_type": "code",
      "source": [
        "import pandas as pd\n",
        "df = pd.read_csv('/content/drive/MyDrive/실습/temp_ice.csv',encoding = 'euc-kr')\n",
        "print(df.head(5))\n",
        "#데이터를 입력 변수와 출력 변수로 나누기\n",
        "import numpy as np\n",
        "data = np.array(df)\n",
        "X = data[:,1]\n",
        "Y = data[:,-1]\n",
        "# 2단계 입력 변수와 출력 변수 각가의 평균(mean) 구하기\n",
        "mean_x = np.mean(X)\n",
        "mean_y = np.mean(Y)\n",
        "#X변수의 개수 구하기\n",
        "n = len(X)\n",
        "#최소제곱법을 이용하여 beta0과 beta1구하기\n",
        "temp1 = 0\n",
        "temp2 = 0\n",
        "for i in range(n):\n",
        "    temp1 += (X[i] - mean_x) * (Y[i] - mean_y)\n",
        "    temp2 += (X[i] - mean_x) **2\n",
        "beta1 = temp1 / temp2\n",
        "beta0 = mean_y - (beta1 * mean_x)\n",
        "# 계산결과 출력하기\n",
        "print('기울기(beta1:) {0}, 절편(beta0): {1}'.format(beta1,beta0))"
      ],
      "metadata": {
        "colab": {
          "base_uri": "https://localhost:8080/"
        },
        "id": "J7Tdpz4tBmnG",
        "outputId": "3dee6f07-bddb-4f60-93f2-b9b7938adf9d"
      },
      "execution_count": 69,
      "outputs": [
        {
          "output_type": "stream",
          "name": "stdout",
          "text": [
            "           날짜  평균기온(℃)  최저기온(℃)  최고기온(℃)  아이스크림/빙수\n",
            "0  2019-01-01     -2.1     -5.8      2.1        27\n",
            "1  2019-01-02     -2.5     -7.0      3.2        27\n",
            "2  2019-01-03     -2.1     -7.7      5.0        25\n",
            "3  2019-01-04     -0.7     -7.3      5.3        25\n",
            "4  2019-01-05      0.2     -4.6      5.3        26\n",
            "기울기(beta1:) 1.3678769756404305, 절편(beta0): 22.975829882004522\n"
          ]
        }
      ]
    },
    {
      "cell_type": "code",
      "source": [
        "import pandas as pd\n",
        "df = pd.read_csv('/content/drive/MyDrive/실습/temp_ice.csv',encoding = 'euc-kr')\n",
        "#데이터를 입력 변수와 출력 변수로 나누기\n",
        "import numpy as np\n",
        "data = np.array(df)\n",
        "X = data[:,1]\n",
        "Y = data[:,-1]\n",
        "# 2단계 입력 변수와 출력 변수 각가의 평균(mean) 구하기\n",
        "mean_x = np.mean(X)\n",
        "mean_y = np.mean(Y)\n",
        "#X변수의 개수 구하기\n",
        "n = len(X)\n",
        "#최소제곱법을 이용하여 beta0과 beta1구하기\n",
        "temp1 = 0\n",
        "temp2 = 0\n",
        "for i in range(n):\n",
        "    temp1 += (X[i] - mean_x) * (Y[i] - mean_y)\n",
        "    temp2 += (X[i] - mean_x) **2\n",
        "beta1 = temp1 / temp2\n",
        "beta0 = mean_y - (beta1 * mean_x)\n",
        "import matplotlib.pyplot as plt\n",
        "Y_pred = beta0 + beta1 * X\n",
        "\n",
        "\n",
        "plt.title('Avg_temp & Clicks')\n",
        "plt.xlabel('Average temperature(C)')\n",
        "plt.ylabel('Clicks')\n",
        "plt.plot(X,Y,'k.')\n",
        "plt.plot(X,Y_pred,color = 'red')\n",
        "plt.axis([-4,30,20,100])\n",
        "plt.grid()\n",
        "plt.show()"
      ],
      "metadata": {
        "colab": {
          "base_uri": "https://localhost:8080/",
          "height": 295
        },
        "id": "Hp9kCZYipDqJ",
        "outputId": "edc266e5-f253-4a44-c781-3efefb9dfd83"
      },
      "execution_count": 11,
      "outputs": [
        {
          "output_type": "display_data",
          "data": {
            "image/png": "[encoded data removed]",
            "text/plain": [
              "<Figure size 432x288 with 1 Axes>"
            ]
          },
          "metadata": {
            "needs_background": "light"
          }
        }
      ]
    },
    {
      "cell_type": "code",
      "source": [
        "import pandas as pd\n",
        "df = pd.read_csv('/content/drive/MyDrive/실습/temp_ice.csv',encoding = 'euc-kr')\n",
        "#데이터를 입력 변수와 출력 변수로 나누기\n",
        "import numpy as np\n",
        "data = np.array(df)\n",
        "X = data[:,1]\n",
        "Y = data[:,-1]\n",
        "# 2단계 입력 변수와 출력 변수 각가의 평균(mean) 구하기\n",
        "mean_x = np.mean(X)\n",
        "mean_y = np.mean(Y)\n",
        "#X변수의 개수 구하기\n",
        "n = len(X)\n",
        "#최소제곱법을 이용하여 beta0과 beta1구하기\n",
        "temp1 = 0\n",
        "temp2 = 0\n",
        "for i in range(n):\n",
        "    temp1 += (X[i] - mean_x) * (Y[i] - mean_y)\n",
        "    temp2 += (X[i] - mean_x) **2\n",
        "beta1 = temp1 / temp2\n",
        "beta0 = mean_y - (beta1 * mean_x)\n",
        "def RMSE(beta0, beta1, x,y):\n",
        "    RMSE = np.sqrt(((y-(beta0 + beta1 * x)) ** 2).mean())\n",
        "    return RMSE\n",
        "\n",
        "results = RMSE(beta0,beta1,X,Y)\n",
        "print('손실값 결과는? {0}'.format(results))"
      ],
      "metadata": {
        "colab": {
          "base_uri": "https://localhost:8080/"
        },
        "id": "qho8xZ2Vks9g",
        "outputId": "4b1ffc0c-a8dd-40af-873a-cf5282929b66"
      },
      "execution_count": 12,
      "outputs": [
        {
          "output_type": "stream",
          "name": "stdout",
          "text": [
            "손실값 결과는? 13.890619172550625\n"
          ]
        }
      ]
    },
    {
      "cell_type": "code",
      "source": [
        "import pandas as pd\n",
        "df = pd.read_csv('/content/drive/MyDrive/실습/temp_ice.csv',encoding = 'euc-kr')\n",
        "#데이터를 입력 변수와 출력 변수로 나누기\n",
        "import numpy as np\n",
        "data = np.array(df)\n",
        "X = data[:,1]\n",
        "Y = data[:,-1]\n",
        "# 2단계 입력 변수와 출력 변수 각가의 평균(mean) 구하기\n",
        "mean_x = np.mean(X)\n",
        "mean_y = np.mean(Y)\n",
        "#X변수의 개수 구하기\n",
        "n = len(X)\n",
        "#최소제곱법을 이용하여 beta0과 beta1구하기\n",
        "temp1 = 0\n",
        "temp2 = 0\n",
        "for i in range(n):\n",
        "    temp1 += (X[i] - mean_x) * (Y[i] - mean_y)\n",
        "    temp2 += (X[i] - mean_x) **2\n",
        "beta1 = temp1 / temp2\n",
        "beta0 = mean_y - (beta1 * mean_x)\n",
        "def Regression(beta0, beta1, X):\n",
        "    y_pred = beta0 + beta1 * X\n",
        "    return y_pred\n",
        "\n",
        "my_temp = float(input('안녕하세요. 오늘의 평균 기온을 입력해 주세요. :'))\n",
        "predicted_value = Regression(beta0,beta1,my_temp)\n",
        "print('아이스크림 쇼핑 크릭량은 100점을 기준으로 {0} 만큼 예상됩니다.'.format(predicted_value))"
      ],
      "metadata": {
        "colab": {
          "base_uri": "https://localhost:8080/"
        },
        "id": "wykSBw7pp8IV",
        "outputId": "52036f79-cd8c-4256-f8c9-f0024df94136"
      },
      "execution_count": 13,
      "outputs": [
        {
          "output_type": "stream",
          "name": "stdout",
          "text": [
            "안녕하세요. 오늘의 평균 기온을 입력해 주세요. :30\n",
            "아이스크림 쇼핑 크릭량은 100점을 기준으로 64.01213915121744 만큼 예상됩니다.\n"
          ]
        }
      ]
    }
  ],
  "metadata": {
    "colab": {
      "collapsed_sections": [],
      "name": "강의.ipynb",
      "provenance": [],
      "include_colab_link": true
    },
    "kernelspec": {
      "display_name": "Python 3",
      "name": "python3"
    }
  },
  "nbformat": 4,
  "nbformat_minor": 0
}